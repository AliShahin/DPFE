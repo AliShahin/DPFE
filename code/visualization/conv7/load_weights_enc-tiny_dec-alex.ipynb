{
 "cells": [
  {
   "cell_type": "code",
   "execution_count": 1,
   "metadata": {
    "collapsed": false
   },
   "outputs": [],
   "source": [
    "import caffe\n",
    "import numpy as np\n",
    "from sklearn.externals import joblib"
   ]
  },
  {
   "cell_type": "code",
   "execution_count": 2,
   "metadata": {
    "collapsed": false
   },
   "outputs": [],
   "source": [
    "modelAttr = '/media/dml/1TbyeAvailable/caffe-moon/Visualization/Yeh/conv7/Siamese/train_val_siamese_conv7.prototxt'\n",
    "weightAttr  = '/media/dml/1TbyeAvailable/caffe-moon/result/conv7/model/[20]/general_[20]_iter_20000.caffemodel'"
   ]
  },
  {
   "cell_type": "code",
   "execution_count": 3,
   "metadata": {
    "collapsed": false
   },
   "outputs": [],
   "source": [
    "AttrNet    = caffe.Net( modelAttr, weightAttr, caffe.TRAIN)"
   ]
  },
  {
   "cell_type": "code",
   "execution_count": 4,
   "metadata": {
    "collapsed": false
   },
   "outputs": [
    {
     "name": "stdout",
     "output_type": "stream",
     "text": [
      "\n",
      "blobs ['data', 'data_data_0_split_0', 'data_data_0_split_1', 'data_data_0_split_2', 'conv1', 'bn_conv1', 'pool1', 'conv2', 'bn_conv2', 'pool2', 'conv3', 'bn_conv3', 'pool3', 'conv4_1', 'bn_conv4_1', 'conv4_2', 'bn_conv4_2', 'conv4_3', 'bn_conv4_3', 'pool4', 'conv5_1', 'bn_conv5_1', 'conv5_2', 'bn_conv5_2', 'conv5_3', 'bn_conv5_3', 'conv5_4', 'bn_conv5_4', 'pool5', 'conv6_1', 'bn_conv6_1', 'conv6_2', 'bn_conv6_2', 'conv6_3', 'bn_conv6_3', 'conv6_4', 'bn_conv6_4', 'conv7', 'flat_1', 'flat_1_shifted', 'pca_1', 'flat_1_shifted_reconst', 'flat_1_reconst', 'conv7_reconst', 'bn_conv7', 'fc7', 'defc7', 'defc6', 'defc5', 'reshape_defc5', 'deconv5', 'conv5_11', 'deconv4', 'conv4_11', 'deconv3', 'conv3_11', 'deconv2', 'deconv1', 'deconv0', 'deconv0_crop', 'recon_loss']\n",
      "params ['conv1', 'bn_conv1', 'conv2', 'bn_conv2', 'conv3', 'bn_conv3', 'conv4_1', 'bn_conv4_1', 'conv4_2', 'bn_conv4_2', 'conv4_3', 'bn_conv4_3', 'conv5_1', 'bn_conv5_1', 'conv5_2', 'bn_conv5_2', 'conv5_3', 'bn_conv5_3', 'conv5_4', 'bn_conv5_4', 'conv6_1', 'bn_conv6_1', 'conv6_2', 'bn_conv6_2', 'conv6_3', 'bn_conv6_3', 'conv6_4', 'bn_conv6_4', 'conv7', 'flat_1_shifted', 'pca_1', 'flat_1_shifted_reconst', 'flat_1_reconst', 'bn_conv7', 'fc7', 'defc7', 'defc6', 'defc5', 'deconv5', 'conv5_11', 'deconv4', 'conv4_11', 'deconv3', 'conv3_11', 'deconv2', 'deconv1', 'deconv0']\n"
     ]
    }
   ],
   "source": [
    "print(\"\\nblobs {}\\nparams {}\".format(AttrNet.blobs.keys(), AttrNet.params.keys()))"
   ]
  },
  {
   "cell_type": "code",
   "execution_count": 5,
   "metadata": {
    "collapsed": true
   },
   "outputs": [],
   "source": [
    "modelAlex = '/media/dml/1TbyeAvailable/caffe-moon/Visualization/Yeh/conv7/Simple/train_val_simple_conv7.prototxt'\n",
    "weightAlex  = '/media/dml/1TbyeAvailable/caffe-moon/Visualization/Yeh/conv7/Simple/trained-model/New_iter_90000.caffemodel'"
   ]
  },
  {
   "cell_type": "code",
   "execution_count": null,
   "metadata": {
    "collapsed": true
   },
   "outputs": [],
   "source": [
    "AlexNet    = caffe.Net( modelAlex, weightAlex, caffe.TEST)"
   ]
  },
  {
   "cell_type": "code",
   "execution_count": null,
   "metadata": {
    "collapsed": false
   },
   "outputs": [],
   "source": [
    "print(\"\\nblobs {}\\nparams {}\".format(AlexNet.blobs.keys(), AlexNet.params.keys()))"
   ]
  },
  {
   "cell_type": "code",
   "execution_count": 9,
   "metadata": {
    "collapsed": false
   },
   "outputs": [],
   "source": [
    "AttrNet.params['conv5_11'][0].data[...] = AlexNet.params['conv5_11'][0].data[...]  #copy filter across 2 nets\n",
    "AttrNet.params['conv5_11'][1].data[...] = AlexNet.params['conv5_11'][1].data[...]  #copy bias\n",
    "AttrNet.params['conv4_11'][0].data[...] = AlexNet.params['conv4_11'][0].data[...]  #copy filter across 2 nets\n",
    "AttrNet.params['conv4_11'][1].data[...] = AlexNet.params['conv4_11'][1].data[...]  #copy bias\n",
    "AttrNet.params['conv3_11'][0].data[...] = AlexNet.params['conv3_11'][0].data[...]  #copy filter across 2 nets\n",
    "AttrNet.params['conv3_11'][1].data[...] = AlexNet.params['conv3_11'][1].data[...]  #copy bias\n",
    "AttrNet.params['deconv5'][0].data[...] = AlexNet.params['deconv5'][0].data[...]  #copy filter across 2 nets\n",
    "AttrNet.params['deconv5'][1].data[...] = AlexNet.params['deconv5'][1].data[...]  #copy bias\n",
    "AttrNet.params['deconv4'][0].data[...] = AlexNet.params['deconv4'][0].data[...]  #copy filter across 2 nets\n",
    "AttrNet.params['deconv4'][1].data[...] = AlexNet.params['deconv4'][1].data[...]  #copy bias\n",
    "AttrNet.params['deconv3'][0].data[...] = AlexNet.params['deconv3'][0].data[...]  #copy filter across 2 nets\n",
    "AttrNet.params['deconv3'][1].data[...] = AlexNet.params['deconv3'][1].data[...]  #copy bias\n",
    "AttrNet.params['deconv2'][0].data[...] = AlexNet.params['deconv2'][0].data[...]  #copy filter across 2 nets\n",
    "AttrNet.params['deconv2'][1].data[...] = AlexNet.params['deconv2'][1].data[...]  #copy bias\n",
    "AttrNet.params['deconv1'][0].data[...] = AlexNet.params['deconv1'][0].data[...]  #copy filter across 2 nets\n",
    "AttrNet.params['deconv1'][1].data[...] = AlexNet.params['deconv1'][1].data[...]  #copy bias\n",
    "AttrNet.params['deconv0'][0].data[...] = AlexNet.params['deconv0'][0].data[...]  #copy filter across 2 nets\n",
    "AttrNet.params['deconv0'][1].data[...] = AlexNet.params['deconv0'][1].data[...]  #copy bias\n",
    "AttrNet.params['defc5'][0].data[...] = AlexNet.params['defc5'][0].data[...]  #copy filter across 2 nets\n",
    "AttrNet.params['defc5'][1].data[...] = AlexNet.params['defc5'][1].data[...]  #copy bias\n",
    "AttrNet.params['defc6'][0].data[...] = AlexNet.params['defc6'][0].data[...]  #copy filter across 2 nets\n",
    "AttrNet.params['defc6'][1].data[...] = AlexNet.params['defc6'][1].data[...]  #copy bias\n",
    "AttrNet.params['defc7'][0].data[...] = AlexNet.params['defc7'][0].data[...]  #copy filter across 2 nets\n",
    "AttrNet.params['defc7'][1].data[...] = AlexNet.params['defc7'][1].data[...]  #copy bias\n",
    "AttrNet.params['fc7'][0].data[...]  = AlexNet.params['fc7'][0].data[...]\n",
    "AttrNet.params['fc7'][1].data[...]  = AlexNet.params['fc7'][1].data[...]\n",
    "#AttrNet.params['bn_conv5_1'][0].data[...] = AlexNet.params['bn_conv5_1'][0].data[...]\n",
    "#AttrNet.params['bn_conv5_1'][1].data[...] = AlexNet.params['bn_conv5_1'][1].data[...]"
   ]
  },
  {
   "cell_type": "code",
   "execution_count": 10,
   "metadata": {
    "collapsed": true
   },
   "outputs": [],
   "source": [
    "AttrNet.save('enc-pca-conv7_dec-alexnet.caffemodel')"
   ]
  },
  {
   "cell_type": "code",
   "execution_count": 11,
   "metadata": {
    "collapsed": false
   },
   "outputs": [
    {
     "data": {
      "text/plain": [
       "array([[ -3.18906911e-35,  -3.18906911e-35,  -3.18906911e-35, ...,\n",
       "         -3.19068197e-35,  -3.19068197e-35,  -3.19068197e-35],\n",
       "       [  2.31212925e-06,   2.31212925e-06,   2.31212925e-06, ...,\n",
       "         -1.04098881e-05,  -1.04098881e-05,  -1.04098881e-05],\n",
       "       [  1.11873442e-05,   1.11873442e-05,   1.11873442e-05, ...,\n",
       "         -2.30846454e-05,  -2.30846454e-05,  -2.30846454e-05],\n",
       "       ..., \n",
       "       [ -2.50067587e-05,  -2.50067587e-05,  -2.50067587e-05, ...,\n",
       "         -7.23526273e-06,  -7.23526273e-06,  -7.23526273e-06],\n",
       "       [  1.39135818e-05,   1.39135818e-05,   1.39135818e-05, ...,\n",
       "         -4.02363185e-05,  -4.02363185e-05,  -4.02363185e-05],\n",
       "       [ -3.29438606e-35,  -3.29438606e-35,  -3.29438606e-35, ...,\n",
       "         -3.26688821e-35,  -3.26688821e-35,  -3.26688821e-35]], dtype=float32)"
      ]
     },
     "execution_count": 11,
     "metadata": {},
     "output_type": "execute_result"
    }
   ],
   "source": [
    "AlexNet.params['fc5'][0].data[...]"
   ]
  },
  {
   "cell_type": "code",
   "execution_count": 12,
   "metadata": {
    "collapsed": false
   },
   "outputs": [
    {
     "data": {
      "text/plain": [
       "array([[ -3.18906911e-35,  -3.18906911e-35,  -3.18906911e-35, ...,\n",
       "         -3.19068197e-35,  -3.19068197e-35,  -3.19068197e-35],\n",
       "       [  2.31212925e-06,   2.31212925e-06,   2.31212925e-06, ...,\n",
       "         -1.04098881e-05,  -1.04098881e-05,  -1.04098881e-05],\n",
       "       [  1.11873442e-05,   1.11873442e-05,   1.11873442e-05, ...,\n",
       "         -2.30846454e-05,  -2.30846454e-05,  -2.30846454e-05],\n",
       "       ..., \n",
       "       [ -2.50067587e-05,  -2.50067587e-05,  -2.50067587e-05, ...,\n",
       "         -7.23526273e-06,  -7.23526273e-06,  -7.23526273e-06],\n",
       "       [  1.39135818e-05,   1.39135818e-05,   1.39135818e-05, ...,\n",
       "         -4.02363185e-05,  -4.02363185e-05,  -4.02363185e-05],\n",
       "       [ -3.29438606e-35,  -3.29438606e-35,  -3.29438606e-35, ...,\n",
       "         -3.26688821e-35,  -3.26688821e-35,  -3.26688821e-35]], dtype=float32)"
      ]
     },
     "execution_count": 12,
     "metadata": {},
     "output_type": "execute_result"
    }
   ],
   "source": [
    "AttrNet.params['fc5'][0].data[...]"
   ]
  },
  {
   "cell_type": "code",
   "execution_count": null,
   "metadata": {
    "collapsed": true
   },
   "outputs": [],
   "source": []
  }
 ],
 "metadata": {
  "kernelspec": {
   "display_name": "Python 2",
   "language": "python",
   "name": "python2"
  },
  "language_info": {
   "codemirror_mode": {
    "name": "ipython",
    "version": 2
   },
   "file_extension": ".py",
   "mimetype": "text/x-python",
   "name": "python",
   "nbconvert_exporter": "python",
   "pygments_lexer": "ipython2",
   "version": "2.7.6"
  }
 },
 "nbformat": 4,
 "nbformat_minor": 2
}
