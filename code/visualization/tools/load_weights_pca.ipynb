{
 "cells": [
  {
   "cell_type": "code",
   "execution_count": 1,
   "metadata": {
    "collapsed": true
   },
   "outputs": [],
   "source": [
    "import caffe\n",
    "import numpy as np"
   ]
  },
  {
   "cell_type": "code",
   "execution_count": 2,
   "metadata": {
    "collapsed": true
   },
   "outputs": [],
   "source": [
    "model_tiny_pca = '../PCA/cut-after-pca/whole/train_val_inf_pca_visualization-alexnet.prototxt'\n",
    "weight_tiny_pca  = '../../../models/visualization_models/Saved/_iter_210000.caffemodel'"
   ]
  },
  {
   "cell_type": "code",
   "execution_count": 3,
   "metadata": {
    "collapsed": false
   },
   "outputs": [],
   "source": [
    "tiny_pca_Net    = caffe.Net( model_tiny_pca, weight_tiny_pca, caffe.TRAIN)"
   ]
  },
  {
   "cell_type": "code",
   "execution_count": 4,
   "metadata": {
    "collapsed": false
   },
   "outputs": [
    {
     "name": "stdout",
     "output_type": "stream",
     "text": [
      "\n",
      "blobs ['data', 'data_data_0_split_0', 'data_data_0_split_1', 'data_data_0_split_2', 'conv1', 'bn_conv1', 'pool1', 'conv2', 'bn_conv2', 'pool2', 'conv3', 'bn_conv3', 'pool3', 'conv4_1', 'bn_conv4_1', 'conv4_2', 'bn_conv4_2', 'conv4_3', 'bn_conv4_3', 'pool4', 'conv5_1', 'flat_1', 'flat_1_shifted', 'pca_1', 'flat_1_shifted_reconst', 'flat_1_reconst', 'conv5_1_reconst', 'bn_conv5_1', 'fc6', 'defc7', 'defc6', 'defc5', 'reshape_defc5', 'deconv5', 'conv5_11', 'deconv4', 'conv4_11', 'deconv3', 'conv3_11', 'deconv2', 'deconv1', 'deconv0', 'deconv0_crop', 'recon_loss']\n",
      "params ['conv1', 'bn_conv1', 'conv2', 'bn_conv2', 'conv3', 'bn_conv3', 'conv4_1', 'bn_conv4_1', 'conv4_2', 'bn_conv4_2', 'conv4_3', 'bn_conv4_3', 'conv5_1', 'flat_1_shifted', 'pca_1', 'flat_1_shifted_reconst', 'flat_1_reconst', 'bn_conv5_1', 'fc6', 'defc7', 'defc6', 'defc5', 'deconv5', 'conv5_11', 'deconv4', 'conv4_11', 'deconv3', 'conv3_11', 'deconv2', 'deconv1', 'deconv0']\n"
     ]
    }
   ],
   "source": [
    "print(\"\\nblobs {}\\nparams {}\".format(tiny_pca_Net.blobs.keys(), tiny_pca_Net.params.keys()))"
   ]
  },
  {
   "cell_type": "code",
   "execution_count": 6,
   "metadata": {
    "collapsed": false
   },
   "outputs": [
    {
     "data": {
      "text/plain": [
       "array([ 0.,  0.,  0., ...,  0.,  0.,  0.], dtype=float32)"
      ]
     },
     "execution_count": 6,
     "metadata": {},
     "output_type": "execute_result"
    }
   ],
   "source": [
    "tiny_pca_Net.params['flat_1_shifted'][1].data"
   ]
  },
  {
   "cell_type": "code",
   "execution_count": 13,
   "metadata": {
    "collapsed": false
   },
   "outputs": [
    {
     "data": {
      "text/plain": [
       "array([ 0.00040625,  0.00037596,  0.0003913 , ...,  0.00083128,\n",
       "        0.00083128,  0.00083128], dtype=float32)"
      ]
     },
     "execution_count": 13,
     "metadata": {},
     "output_type": "execute_result"
    }
   ],
   "source": [
    "tiny_pca.params['flat_1_shifted'][1].data"
   ]
  },
  {
   "cell_type": "code",
   "execution_count": 7,
   "metadata": {
    "collapsed": true
   },
   "outputs": [],
   "source": [
    "model_pca = '../../Yeh/PCA/cut-after-pca/train_val_inf_pca_visualization-alexnet.prototxt'\n",
    "weight_pca  = '../../../models/visualization_models_before_pca/_iter_80000.caffemodel'"
   ]
  },
  {
   "cell_type": "code",
   "execution_count": 8,
   "metadata": {
    "collapsed": false
   },
   "outputs": [],
   "source": [
    "tiny_pca    = caffe.Net( model_pca, weight_pca, caffe.TEST)"
   ]
  },
  {
   "cell_type": "code",
   "execution_count": 9,
   "metadata": {
    "collapsed": false
   },
   "outputs": [
    {
     "name": "stdout",
     "output_type": "stream",
     "text": [
      "\n",
      "blobs ['data', 'data_data_0_split_0', 'data_data_0_split_1', 'data_data_0_split_2', 'conv1', 'bn_conv1', 'pool1', 'conv2', 'bn_conv2', 'pool2', 'conv3', 'bn_conv3', 'pool3', 'conv4_1', 'bn_conv4_1', 'conv4_2', 'bn_conv4_2', 'conv4_3', 'bn_conv4_3', 'pool4', 'conv5_1', 'flat_1', 'flat_1_shifted', 'pca_1', 'flat_1_shifted_reconst', 'flat_1_reconst', 'conv5_1_reconst', 'bn_conv5_1', 'fc6', 'defc7', 'defc6', 'defc5', 'reshape_defc5', 'deconv5', 'conv5_11', 'deconv4', 'conv4_11', 'deconv3', 'conv3_11', 'deconv2', 'deconv1', 'deconv0', 'deconv0_crop', 'recon_loss']\n",
      "params ['conv1', 'bn_conv1', 'conv2', 'bn_conv2', 'conv3', 'bn_conv3', 'conv4_1', 'bn_conv4_1', 'conv4_2', 'bn_conv4_2', 'conv4_3', 'bn_conv4_3', 'conv5_1', 'flat_1_shifted', 'pca_1', 'flat_1_shifted_reconst', 'flat_1_reconst', 'bn_conv5_1', 'fc6', 'defc7', 'defc6', 'defc5', 'deconv5', 'conv5_11', 'deconv4', 'conv4_11', 'deconv3', 'conv3_11', 'deconv2', 'deconv1', 'deconv0']\n"
     ]
    }
   ],
   "source": [
    "print(\"\\nblobs {}\\nparams {}\".format(tiny_pca_Net.blobs.keys(), tiny_pca_Net.params.keys()))"
   ]
  },
  {
   "cell_type": "code",
   "execution_count": 10,
   "metadata": {
    "collapsed": false
   },
   "outputs": [],
   "source": [
    "tiny_pca_Net.params['flat_1_shifted'][0].data[...] = tiny_pca.params['flat_1_shifted'][0].data[...]\n",
    "tiny_pca_Net.params['flat_1_shifted'][1].data[...] = tiny_pca.params['flat_1_shifted'][1].data[...]\n",
    "tiny_pca_Net.params['pca_1'][0].data[...] = tiny_pca.params['pca_1'][0].data[...]\n",
    "tiny_pca_Net.params['pca_1'][1].data[...] = tiny_pca.params['pca_1'][1].data[...]\n",
    "tiny_pca_Net.params['flat_1_shifted_reconst'][0].data[...] = tiny_pca.params['flat_1_shifted_reconst'][0].data[...]\n",
    "tiny_pca_Net.params['flat_1_shifted_reconst'][1].data[...] = tiny_pca.params['flat_1_shifted_reconst'][1].data[...]\n",
    "tiny_pca_Net.params['flat_1_reconst'][0].data[...] = tiny_pca.params['flat_1_reconst'][0].data[...]\n",
    "tiny_pca_Net.params['flat_1_reconst'][1].data[...] = tiny_pca.params['flat_1_reconst'][1].data[...]"
   ]
  },
  {
   "cell_type": "code",
   "execution_count": null,
   "metadata": {
    "collapsed": true
   },
   "outputs": [],
   "source": [
    "tiny_pca_Net.save('tuned-pca.caffemodel')"
   ]
  },
  {
   "cell_type": "code",
   "execution_count": null,
   "metadata": {
    "collapsed": true
   },
   "outputs": [],
   "source": []
  }
 ],
 "metadata": {
  "kernelspec": {
   "display_name": "Python 2",
   "language": "python",
   "name": "python2"
  },
  "language_info": {
   "codemirror_mode": {
    "name": "ipython",
    "version": 2
   },
   "file_extension": ".py",
   "mimetype": "text/x-python",
   "name": "python",
   "nbconvert_exporter": "python",
   "pygments_lexer": "ipython2",
   "version": "2.7.6"
  }
 },
 "nbformat": 4,
 "nbformat_minor": 2
}
